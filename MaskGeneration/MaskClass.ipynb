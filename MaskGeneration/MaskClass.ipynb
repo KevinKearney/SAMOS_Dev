{
 "cells": [
  {
   "cell_type": "markdown",
   "id": "75a50ef2",
   "metadata": {},
   "source": [
    "# Create SAMOS Mask Set "
   ]
  },
  {
   "cell_type": "code",
   "execution_count": 1,
   "id": "fadd284a",
   "metadata": {},
   "outputs": [
    {
     "data": {
      "text/plain": [
       "{'fits': ['imread', 'imread_collection'],\n",
       " 'gdal': ['imread', 'imread_collection'],\n",
       " 'gtk': ['imshow'],\n",
       " 'imageio': ['imread', 'imsave', 'imread_collection'],\n",
       " 'imread': ['imread', 'imsave', 'imread_collection'],\n",
       " 'matplotlib': ['imshow', 'imread', 'imshow_collection', 'imread_collection'],\n",
       " 'pil': ['imread', 'imsave', 'imread_collection'],\n",
       " 'qt': ['imshow', 'imsave', 'imread', 'imread_collection'],\n",
       " 'simpleitk': ['imread', 'imsave', 'imread_collection'],\n",
       " 'tifffile': ['imread', 'imsave', 'imread_collection']}"
      ]
     },
     "execution_count": 1,
     "metadata": {},
     "output_type": "execute_result"
    }
   ],
   "source": [
    "from pathlib import Path\n",
    "import numpy as np\n",
    "from scipy.linalg import hadamard, circulant\n",
    "import matplotlib.pyplot as plt\n",
    "from astropy.io import fits\n",
    "import napari\n",
    "\n",
    "import skimage as ski\n",
    "ski.io.find_available_plugins()"
   ]
  },
  {
   "cell_type": "code",
   "execution_count": 2,
   "id": "19abc725",
   "metadata": {},
   "outputs": [],
   "source": [
    "class BinaryMask:\n",
    "  \"\"\"Create and manipulate a binary (actually, TRINARY [-1,0,1]) numpy mask.  \"\"\"\n",
    "\n",
    "  def __init__(self, arr_size):         #(1024,2048) #(768, 1024) # XGA or DC2K DMD array size\n",
    "    self.mask = np.zeros(arr_size, dtype=int)\n",
    "    self.size = arr_size                    # a tuple\n",
    "    self.x0 = int(self.size[0]/2)           # default mask center is mid-point\n",
    "    self.y0 = int(self.size[1]/2)           # default mask center is mid-point\n",
    "    self.center = (self.x0, self.y0)        # format midpoints as a tuple\n",
    "    self.allowed_values = [-1,0,1]          # enforced by the class; it's actually a TRINARY mask\n",
    "\n",
    "  def _subarray_insert(self, subarray, x, y):\n",
    "    \"\"\"Helper method (private): insert a subarray into a mask, centered at (x,y)\"\"\"\n",
    "    \n",
    "    # Find \"upper left\" coordinates (a0,a1) of the insert location      \n",
    "    row_len = subarray.shape[0]\n",
    "    col_len = subarray.shape[1]\n",
    "    a0 = self.x0 - int(row_len/2)\n",
    "    a1 = self.y0 - int(col_len/2)  \n",
    "\n",
    "    a0 = x - int(row_len/2)\n",
    "    a1 = y - int(col_len/2)  \n",
    "    \n",
    "    self.mask[a0:a0+row_len, a1:a1+col_len] = subarray         \n",
    "\n",
    "  def _subarray_expand(self, subarray, n):\n",
    "      \"\"\"Helper method (private) to expand a subarray pattern by replicating each pixel n times in both row and column direction\"\"\"\n",
    "      row_len = subarray.shape[0]\n",
    "      col_len = subarray.shape[1]\n",
    "      expanded_size = (row_len*n, col_len*n)\n",
    "      subarray_expanded = np.zeros(expanded_size, dtype='int' )\n",
    "      \n",
    "      icount = 0\n",
    "      for i_order in range (0,row_len):\n",
    "          row_extract = subarray[i_order,:]            \n",
    "          row_expand = np.repeat(row_extract, n)    # horizontal expand - replicate \"pixels\"\n",
    "          for irow in range(0,n):                   # vertical expand - replicate rows\n",
    "              subarray_expanded[icount,:] = row_expand\n",
    "              icount = icount + 1\n",
    "              \n",
    "      return subarray_expanded\n",
    "\n",
    "  def push(self):                                   \n",
    "     \"\"\"save a copy of the current mask\"\"\"\n",
    "     self.template = self.mask\n",
    "\n",
    "  def pop(self):\n",
    "     \"\"\"restore the mask to the saved (pushed) version\"\"\"\n",
    "     self.mask = self.template\n",
    "     \n",
    "  def reset(self, value = 0):\n",
    "      \"\"\"Set all the elements of an existing mask to a single allowed value \"\"\"\n",
    "\n",
    "      if any(x == value for x in self.allowed_values): \n",
    "          self.mask.fill(value)\n",
    "      else:  print('.reset(', value, ') not allowed: ')  \n",
    "  \n",
    "  def toggle_pix(self, x, y, value = 0):\n",
    "      \"\"\"Set a single element of an existing mask to a an allowed value \"\"\"\n",
    "      if any(x == value for x in self.allowed_values): \n",
    "        self.mask[x,y] = value\n",
    "      else:  print('.toggle_pix(', value, ') not allowed: ')  \n",
    "  \n",
    "  def row_replicate(self, submask, row_n, x, y):\n",
    "     pass\n",
    "  \n",
    "  def insert_submask(self, x, y, submask):\n",
    "    self._subarray_insert(submask, x,y)\n",
    "\n",
    "  def insert_Hmatrix(self, x0, y0, order, complement = False):\n",
    "    H = hadamard(order, dtype= int)\n",
    "    self._subarray_insert(self, H)\n",
    "    \n",
    "  \n",
    "  def create_Smatrix(self, order,  n_expand = 1):\n",
    "    allowed_orders = [3,7,11,15,19,23,31,35,43,47,63,71,79,83,103,127,255]\n",
    "\n",
    "    S_vector = {         \n",
    "    's3':  [1,0,1],\n",
    "    's7':  [1,1,1,0,1,0,0],\n",
    "    's11': [1,1,0,1,1,1,0,0,0,1,0],\n",
    "    's15': [0,0,0,1,0,0,1,1,0,1,0,1,1,1,1],\n",
    "    's19': [1,1,0,0,1,1,1,1,0,1,0,1,0,0,0,0,1,1,0],\n",
    "    's23': [1,1,0,0,1,1,1,1,0,1,0,1,0,0,0,0,1,1,0],\n",
    "    's31': [0,0,0,0,1,0,0,1,0,1,1,0,0,1,1,1,1,1,0,0,0,1,1,0,1,1,1,0,1,0,1],\n",
    "    's35': [0,0,1,0,0,1,1,0,1,0,1,0,0,0,0,1,0,0,1,1,1,0,1,1,1,1,1,0,0,0,1,1,1,0,1],\n",
    "    's43': [1,1,0,0,1,0,1,0,0,1,1,1,0,1,1,1,1,1,0,0,0,1,0,1,1,1,0,0,0,0,0,1,0,0,0,1,1,0,1,0,1,1,0],\n",
    "    's47': [1,1,1,1,1,0,1,1,1,1,0,0,1,0,1,0,1,1,1,0,0,1,0,0,1,1,0,1,1,0,0,0,1,0,1,0,1,1,0,0,0,0,1,0,0,0,0],\n",
    "    's63': [0,0,0,0,0,1,0,0,0,0,1,1,0,0,0,1,0,1,0,0,1,1,1,1,0,1,0,0,0,1,1,1,0,0,1,0,0,1,0,1,1,0,1,1,1,0,1, \\\n",
    "            1,0,0,1,1,0,1,0,1,0,1,1,1,1,1,1],\n",
    "    's71': [1,1,1,1,1,1,1,0,1,1,1,0,1,0,0,1,1,0,1,1,1,0,0,0,1,1,0,1,0,1,1,0,1,0,0,0,1,1,1,0,1,0,0,1,0,1,0, \\\n",
    "            0,1,1,1,0,0,0,1,0,0,1,1,0,1,0,0,0,1,0,0,0,0,0,0],\n",
    "    's79': [1,1,1,0,1,1,0,0,1,1,1,1,0,1,0,0,1,0,1,1,1,1,1,1,0,1,1,0,0,0,0,1,1,0,0,0,1,0,1,0,1,0,1,0,1,1,1, \\\n",
    "            0,0,1,1,1,1,0,0,1,0,0,0,0,0,0,1,0,1,1,0,1,0,0,0,0,1,1,0,0,1,0,0],\n",
    "    's83': [1,1,0,1,1,0,0,1,0,1,1,1,1,0,0,0,1,1,0,0,0,1,0,1,0,1,1,1,1,1,1,1,0,1,0,0,1,1,1,0,1,1,0,0,1,0,0, \\\n",
    "            0,1,1,0,1,0,0,0,0,0,0,0,1,0,1,0,1,1,1,0,0,1,1,1,0,0,0,0,1,0,1,1,0,0,1,0],\n",
    "    's103': [1,1,1,0,1,0,0,1,1,1,0,0,0,1,1,1,1,1,1,1,0,0,0,1,0,1,1,0,1,1,1,0,1,1,1,0,1,0,1,0,0,1,0,0,0,0,1, \\\n",
    "              0,0,1,1,0,1,0,0,1,1,0,1,1,1,1,0,1,1,0,1,0,1,0,0,0,1,0,0,0,1,0,0,1,0,1,1,1,0,0,0,0,0,0,0,1,1,1,0,0,0,1,1,0,1,0,0],\n",
    "    's127': [0,0,0,0,0,0,1,0,0,0,0,0,1,1,0,0,0,0,1,0,1,0,0,0,1,1,1,1,0,0,1,0,0,0,1,0,1,1,0,0,1,1,1,0,1,0,1, \\\n",
    "              0,0,1,1,1,1,1,0,1,0,0,0,0,1,1,1,0,0,0,1,0,0,1,0,0,1,1,0,1,1,0,1,0,1,1,0,1,1,1,1,0,1,1,0,0,0,1, \\\n",
    "              1,0,1,0,0,1,0,1,1,1,0,1,1,1,0,0,1,1,0,0,1,0,1,0,1,0,1,1,1,1,1,1,1],\n",
    "    's255': [0,0,0,0,0,0,0,1,0,1,1,1,0,0,0,1,1,1,0,1,1,1,1,0,0,0,1,0,1,1,0,0,1,1,0,1,1,0,0,0,0,1,1,1,1,0,0, \\\n",
    "              1,1,1,0,0,0,0,1,0,1,0,1,1,1,1,1,1,1,1,0,0,1,0,1,1,1,1,0,1,0,0,1,0,1,0,0,0,0,1,1,0,1,1,1,0,1,1, \\\n",
    "              0,1,1,1,1,1,0,1,0,1,1,1,0,1,0,0,0,0,0,1,1,0,0,1,0,1,0,1,0,1,0,0,0,1,1,0,1,0,1,1,0,0,0,1,1,0,0, \\\n",
    "              0,0,0,1,0,0,1,0,1,1,0,1,1,0,1,0,1,0,0,1,1,0,1,0,0,1,1,1,1,1,1,0,1,1,1,0,0,1,1,0,0,1,1,1,1,0,1, \\\n",
    "              1,0,0,1,0,0,0,0,1,0,0,0,0,0,0,1,1,1,0,0,1,0,0,1,0,0,1,1,0,0,0,1,0,0,1,1,1,0,1,0,1,0,1,1,0,1,0, \\\n",
    "              0,0,1,0,0,0,1,0,1,0,0,1,0,0,0,1,1,1,1,1]}\n",
    "     \n",
    "    order_key = 's'+str(order)\n",
    "\n",
    "    self.S_matrix = np.zeros((order,order), dtype = 'int')\n",
    "  \n",
    "    if any(x == order for x in allowed_orders): \n",
    "      for i in range(0, order):\n",
    "        self.S_matrix[i,:]=np.roll(S_vector[order_key],-i)\n",
    "\n",
    "    else: print('create_Smatrix: order not allowed: ', order)\n",
    "\n",
    "    # Insert the expanded S-matrix into the mask\n",
    "    if n_expand != 1: self.S_matrix = self._subarray_expand(self.S_matrix, n_expand)\n",
    "\n",
    "        \n",
    "     \n",
    "  def insert_Smatrix(self, order, x , y, n_expand = 1, circulant = True):\n",
    "    \"\"\"Overwrite an S-matrix of specified order, centered at mask position (x,y); expand S-matrix by replicating each pixel n times in both row and column direction \"\"\"\n",
    "    allowed_orders = [3,7,11,15,19,23,31,35,43,47,63,71,79,83,103,127,255]\n",
    "    \n",
    "    if any(x == order for x in allowed_orders):    # constructs an iterable that yields a sequence of booleans\n",
    "\n",
    "        if (circulant == True):  # construct the S-matrix from a list of precomputed vectors (Harwit)\n",
    "            order_key = 's'+str(order)\n",
    "\n",
    "            S_vector = {         \n",
    "                's3':  [1,0,1],\n",
    "                's7':  [1,1,1,0,1,0,0],\n",
    "                's11': [1,1,0,1,1,1,0,0,0,1,0],\n",
    "                's15': [0,0,0,1,0,0,1,1,0,1,0,1,1,1,1],\n",
    "                's19': [1,1,0,0,1,1,1,1,0,1,0,1,0,0,0,0,1,1,0],\n",
    "                's23': [1,1,0,0,1,1,1,1,0,1,0,1,0,0,0,0,1,1,0],\n",
    "                's31': [0,0,0,0,1,0,0,1,0,1,1,0,0,1,1,1,1,1,0,0,0,1,1,0,1,1,1,0,1,0,1],\n",
    "                's35': [0,0,1,0,0,1,1,0,1,0,1,0,0,0,0,1,0,0,1,1,1,0,1,1,1,1,1,0,0,0,1,1,1,0,1],\n",
    "                's43': [1,1,0,0,1,0,1,0,0,1,1,1,0,1,1,1,1,1,0,0,0,1,0,1,1,1,0,0,0,0,0,1,0,0,0,1,1,0,1,0,1,1,0],\n",
    "                's47': [1,1,1,1,1,0,1,1,1,1,0,0,1,0,1,0,1,1,1,0,0,1,0,0,1,1,0,1,1,0,0,0,1,0,1,0,1,1,0,0,0,0,1,0,0,0,0],\n",
    "                's63': [0,0,0,0,0,1,0,0,0,0,1,1,0,0,0,1,0,1,0,0,1,1,1,1,0,1,0,0,0,1,1,1,0,0,1,0,0,1,0,1,1,0,1,1,1,0,1, \\\n",
    "                        1,0,0,1,1,0,1,0,1,0,1,1,1,1,1,1],\n",
    "                's71': [1,1,1,1,1,1,1,0,1,1,1,0,1,0,0,1,1,0,1,1,1,0,0,0,1,1,0,1,0,1,1,0,1,0,0,0,1,1,1,0,1,0,0,1,0,1,0, \\\n",
    "                        0,1,1,1,0,0,0,1,0,0,1,1,0,1,0,0,0,1,0,0,0,0,0,0],\n",
    "                's79': [1,1,1,0,1,1,0,0,1,1,1,1,0,1,0,0,1,0,1,1,1,1,1,1,0,1,1,0,0,0,0,1,1,0,0,0,1,0,1,0,1,0,1,0,1,1,1, \\\n",
    "                        0,0,1,1,1,1,0,0,1,0,0,0,0,0,0,1,0,1,1,0,1,0,0,0,0,1,1,0,0,1,0,0],\n",
    "                's83': [1,1,0,1,1,0,0,1,0,1,1,1,1,0,0,0,1,1,0,0,0,1,0,1,0,1,1,1,1,1,1,1,0,1,0,0,1,1,1,0,1,1,0,0,1,0,0, \\\n",
    "                        0,1,1,0,1,0,0,0,0,0,0,0,1,0,1,0,1,1,1,0,0,1,1,1,0,0,0,0,1,0,1,1,0,0,1,0],\n",
    "                's103': [1,1,1,0,1,0,0,1,1,1,0,0,0,1,1,1,1,1,1,1,0,0,0,1,0,1,1,0,1,1,1,0,1,1,1,0,1,0,1,0,0,1,0,0,0,0,1, \\\n",
    "                          0,0,1,1,0,1,0,0,1,1,0,1,1,1,1,0,1,1,0,1,0,1,0,0,0,1,0,0,0,1,0,0,1,0,1,1,1,0,0,0,0,0,0,0,1,1,1,0,0,0,1,1,0,1,0,0],\n",
    "                's127': [0,0,0,0,0,0,1,0,0,0,0,0,1,1,0,0,0,0,1,0,1,0,0,0,1,1,1,1,0,0,1,0,0,0,1,0,1,1,0,0,1,1,1,0,1,0,1, \\\n",
    "                          0,0,1,1,1,1,1,0,1,0,0,0,0,1,1,1,0,0,0,1,0,0,1,0,0,1,1,0,1,1,0,1,0,1,1,0,1,1,1,1,0,1,1,0,0,0,1, \\\n",
    "                          1,0,1,0,0,1,0,1,1,1,0,1,1,1,0,0,1,1,0,0,1,0,1,0,1,0,1,1,1,1,1,1,1],\n",
    "                's255': [0,0,0,0,0,0,0,1,0,1,1,1,0,0,0,1,1,1,0,1,1,1,1,0,0,0,1,0,1,1,0,0,1,1,0,1,1,0,0,0,0,1,1,1,1,0,0, \\\n",
    "                          1,1,1,0,0,0,0,1,0,1,0,1,1,1,1,1,1,1,1,0,0,1,0,1,1,1,1,0,1,0,0,1,0,1,0,0,0,0,1,1,0,1,1,1,0,1,1, \\\n",
    "                          0,1,1,1,1,1,0,1,0,1,1,1,0,1,0,0,0,0,0,1,1,0,0,1,0,1,0,1,0,1,0,0,0,1,1,0,1,0,1,1,0,0,0,1,1,0,0, \\\n",
    "                          0,0,0,1,0,0,1,0,1,1,0,1,1,0,1,0,1,0,0,1,1,0,1,0,0,1,1,1,1,1,1,0,1,1,1,0,0,1,1,0,0,1,1,1,1,0,1, \\\n",
    "                          1,0,0,1,0,0,0,0,1,0,0,0,0,0,0,1,1,1,0,0,1,0,0,1,0,0,1,1,0,0,0,1,0,0,1,1,1,0,1,0,1,0,1,1,0,1,0, \\\n",
    "                          0,0,1,0,0,0,1,0,1,0,0,1,0,0,0,1,1,1,1,1]\n",
    "            }\n",
    "\n",
    "            self.S_matrix = np.zeros((order,order), dtype = 'int')\n",
    "            \n",
    "            for i in range(0, order):\n",
    "                self.S_matrix[i,:]=np.roll(S_vector[order_key],-i)\n",
    "\n",
    "        else: # circulant not required:  construct the S-matrix from a Hadamard matrix\n",
    "            H_S = hadamard(order+1, dtype='int')\n",
    "            H_S = np.delete(H_S, (0), axis = 0)\n",
    "            H_S = np.delete(H_S, (0), axis = 1)\n",
    "            H_S[H_S == 1] = 0\n",
    "            H_S[H_S == -1] = 1\n",
    "\n",
    "            self.S_matrix = H_S\n",
    "                \n",
    "        # Insert the expanded S-matrix into the mask\n",
    "        if n_expand != 1: self.S_matrix = self._subarray_expand(self.S_matrix, n_expand)\n",
    "        self._subarray_insert(self.S_matrix, x, y)\n",
    "        \n",
    "    else:\n",
    "        #add error handling; what to set mask to?\n",
    "        print(\"order = \", order, \" is NOT defined\")\n",
    "\n",
    "\n"
   ]
  },
  {
   "cell_type": "markdown",
   "id": "fa272688",
   "metadata": {},
   "source": [
    "## Instantiate a binary mask, add some \"static\" submasks (slits)   \n",
    "\n",
    "these will remain unchanged as we create the S-matrix mask set  "
   ]
  },
  {
   "cell_type": "code",
   "execution_count": 58,
   "id": "34b387f3",
   "metadata": {},
   "outputs": [
    {
     "data": {
      "image/png": "[encoded data removed]",
      "text/plain": [
       "<Figure size 1000x1000 with 1 Axes>"
      ]
     },
     "metadata": {},
     "output_type": "display_data"
    }
   ],
   "source": [
    "DMD = BinaryMask((1080, 2048))                  # create the empty DMD mask \n",
    "\n",
    "mos_mask = np.ones((50,20))\n",
    "\n",
    "DMD.insert_submask(200, 500, mos_mask)\n",
    "DMD.insert_submask(800, 500, mos_mask)\n",
    "\n",
    "#viewer= napari.view_image(DMD.mask, rgb = None, colormap='gray')\n",
    "fig, ax = plt.subplots(nrows=1, ncols=1, figsize=(10,10))\n",
    "ax.imshow(DMD.mask, cmap='gray'); ax.set_title('Base Mask'); ax.grid()"
   ]
  },
  {
   "cell_type": "markdown",
   "id": "7e12177d",
   "metadata": {},
   "source": [
    "### Create an S-matrix of order 'n_order` and of unit cell size 'n_cell'.  "
   ]
  },
  {
   "cell_type": "code",
   "execution_count": 59,
   "id": "04459f8d",
   "metadata": {},
   "outputs": [
    {
     "data": {
      "image/png": "[encoded data removed]",
      "text/plain": [
       "<Figure size 300x300 with 1 Axes>"
      ]
     },
     "metadata": {},
     "output_type": "display_data"
    }
   ],
   "source": [
    "n_cell = 3                                    # keep these explicit for now\n",
    "n_order = 63                                   # no way to get them programmatically\n",
    "\n",
    "DMD.create_Smatrix(n_order,n_cell)            # generate an S-matrix\n",
    "\n",
    "fig, ax = plt.subplots(nrows=1, ncols=1, figsize=(3,3))\n",
    "ax.imshow(DMD.S_matrix, cmap='gray'); ax.set_title('S-matrix'); ax.grid()"
   ]
  },
  {
   "cell_type": "markdown",
   "id": "cbde3111",
   "metadata": {},
   "source": [
    "### Take each row of the S-matrix and replicate it into a set of  submasks  "
   ]
  },
  {
   "cell_type": "code",
   "execution_count": 61,
   "id": "c3da70a2",
   "metadata": {},
   "outputs": [],
   "source": [
    "submask_rows = 300                                                          # the number of columns is fixed, but the number of rows is arbitrary\n",
    "submask_cols = DMD.S_matrix.shape[1]\n",
    "submask_arr = np.zeros((submask_rows, submask_cols, n_order), dtype = 'int')    # the array of row-replicated S-matrices\n",
    "\n",
    "row_select = np.arange(0, S_size, n_cell)                                 # skip redundant rows (a conseqence of n_cell > 1)\n",
    "\n",
    "i = 0\n",
    "for row in row_select:\n",
    "    row_out = DMD.S_matrix[row,:]                                         # extract row from the S-matrix\n",
    "    submask_cols = row_out.shape[0]\n",
    "    #print(submask_cols)\n",
    "    grid_arr = np.broadcast_to(row_out, (submask_rows, submask_cols))                # replicate the row into a 2d array\n",
    "    submask_arr[:,:,i] = grid_arr\n",
    "    i = i + 1\n",
    "\n",
    "# viewer = napari.view_image(submask_arr, rgb = None, colormap='gray')"
   ]
  },
  {
   "cell_type": "markdown",
   "id": "e9183aa7",
   "metadata": {},
   "source": [
    "### Insert each submask into a copy of the overall binary mask - creating a set of masks with the row-replicated S-matrix in each one"
   ]
  },
  {
   "cell_type": "code",
   "execution_count": 62,
   "id": "7f2a59ac",
   "metadata": {},
   "outputs": [],
   "source": [
    "n_row = DMD.mask.shape[0]\n",
    "n_col = DMD.mask.shape[1]\n",
    "\n",
    "mask_arr = np.zeros((n_row,n_col,n_order))\n",
    "\n",
    "DMD.push                         # save a copy of the base mask\n",
    "\n",
    "for n_mask in range(n_order):\n",
    "    DMD.pop\n",
    "    DMD.insert_submask(int(n_row/2), int(n_col/2), submask_arr[:,:,n_mask])\n",
    "    mask_arr[:, :, n_mask] = DMD.mask\n",
    "\n",
    "viewer= napari.view_image(mask_arr, rgb = None, colormap='gray')\n"
   ]
  },
  {
   "cell_type": "markdown",
   "id": "f4d1e76c",
   "metadata": {},
   "source": [
    "### Write the mask file sequence to disk as bitmap files"
   ]
  },
  {
   "cell_type": "code",
   "execution_count": 64,
   "id": "79b3df3a",
   "metadata": {},
   "outputs": [],
   "source": [
    "from PIL import Image as im\n",
    "cwd = Path.cwd()\n",
    "target_dir = Path.cwd() / \"HTSI_masks\"\n",
    "\n",
    "for n_mask in range(n_order):\n",
    "    im_out = mask_arr[:, :, n_mask]*255\n",
    "    im_data = im.fromarray((im_out).astype(np.uint8))\n",
    "    fname = 'NGC3918_S63_' + str(n_mask) + '.bmp'\n",
    "    full_path = target_dir / fname\n",
    "    im_data.save(full_path)"
   ]
  }
 ],
 "metadata": {
  "kernelspec": {
   "display_name": "astro",
   "language": "python",
   "name": "astro"
  },
  "language_info": {
   "codemirror_mode": {
    "name": "ipython",
    "version": 3
   },
   "file_extension": ".py",
   "mimetype": "text/x-python",
   "name": "python",
   "nbconvert_exporter": "python",
   "pygments_lexer": "ipython3",
   "version": "3.10.9"
  }
 },
 "nbformat": 4,
 "nbformat_minor": 5
}
